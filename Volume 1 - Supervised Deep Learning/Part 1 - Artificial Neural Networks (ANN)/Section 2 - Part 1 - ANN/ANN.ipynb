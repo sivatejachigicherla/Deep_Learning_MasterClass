{
  "nbformat": 4,
  "nbformat_minor": 0,
  "metadata": {
    "colab": {
      "name": "ANN.ipynb",
      "provenance": [],
      "collapsed_sections": []
    },
    "kernelspec": {
      "name": "python3",
      "display_name": "Python 3"
    }
  },
  "cells": [
    {
      "cell_type": "markdown",
      "metadata": {
        "id": "dsczgNDhQe3L"
      },
      "source": [
        "# **Artificial Neural Network**"
      ]
    },
    {
      "cell_type": "markdown",
      "metadata": {
        "id": "Mek8FqM0QsVY"
      },
      "source": [
        "Importing the Libraries"
      ]
    },
    {
      "cell_type": "code",
      "metadata": {
        "id": "vNi-Xa7OOMtv"
      },
      "source": [
        "import numpy as np\r\n",
        "import pandas as pd\r\n",
        "import tensorflow as tf"
      ],
      "execution_count": 86,
      "outputs": []
    },
    {
      "cell_type": "code",
      "metadata": {
        "colab": {
          "base_uri": "https://localhost:8080/",
          "height": 35
        },
        "id": "SlNPQWyjOckL",
        "outputId": "f856e77d-3120-47a2-a239-450b7469312f"
      },
      "source": [
        "tf.__version__"
      ],
      "execution_count": 87,
      "outputs": [
        {
          "output_type": "execute_result",
          "data": {
            "application/vnd.google.colaboratory.intrinsic+json": {
              "type": "string"
            },
            "text/plain": [
              "'2.4.0'"
            ]
          },
          "metadata": {
            "tags": []
          },
          "execution_count": 87
        }
      ]
    },
    {
      "cell_type": "code",
      "metadata": {
        "id": "SwRrsfC3Ok31"
      },
      "source": [
        "import io\r\n",
        "url = 'https://raw.githubusercontent.com/sivatejachigicherla/Deep_Learning_MasterClass/main/Volume%201%20-%20Supervised%20Deep%20Learning/Part%201%20-%20Artificial%20Neural%20Networks%20(ANN)/Section%202%20-%20Part%201%20-%20ANN/Churn_Modelling.csv'\r\n",
        "dataset = pd.read_csv(url)\r\n",
        "X = dataset.iloc[:, 3:-1].values\r\n",
        "y = dataset.iloc[:, -1].values"
      ],
      "execution_count": 88,
      "outputs": []
    },
    {
      "cell_type": "code",
      "metadata": {
        "colab": {
          "base_uri": "https://localhost:8080/"
        },
        "id": "PqzAjSQQPONA",
        "outputId": "8627d47a-31ee-45d7-cdaf-f2c7fa7d0466"
      },
      "source": [
        "X"
      ],
      "execution_count": 89,
      "outputs": [
        {
          "output_type": "execute_result",
          "data": {
            "text/plain": [
              "array([[619, 'France', 'Female', ..., 1, 1, 101348.88],\n",
              "       [608, 'Spain', 'Female', ..., 0, 1, 112542.58],\n",
              "       [502, 'France', 'Female', ..., 1, 0, 113931.57],\n",
              "       ...,\n",
              "       [709, 'France', 'Female', ..., 0, 1, 42085.58],\n",
              "       [772, 'Germany', 'Male', ..., 1, 0, 92888.52],\n",
              "       [792, 'France', 'Female', ..., 1, 0, 38190.78]], dtype=object)"
            ]
          },
          "metadata": {
            "tags": []
          },
          "execution_count": 89
        }
      ]
    },
    {
      "cell_type": "code",
      "metadata": {
        "colab": {
          "base_uri": "https://localhost:8080/"
        },
        "id": "-mVi_mmfPRMm",
        "outputId": "72d8b551-3e56-4db9-b5f1-3f1e44af5e81"
      },
      "source": [
        "y"
      ],
      "execution_count": 90,
      "outputs": [
        {
          "output_type": "execute_result",
          "data": {
            "text/plain": [
              "array([1, 0, 1, ..., 1, 1, 0])"
            ]
          },
          "metadata": {
            "tags": []
          },
          "execution_count": 90
        }
      ]
    },
    {
      "cell_type": "markdown",
      "metadata": {
        "id": "VB1rdosWRF8z"
      },
      "source": [
        "Encoding categorical data"
      ]
    },
    {
      "cell_type": "code",
      "metadata": {
        "id": "bzx7HSbePUw_"
      },
      "source": [
        "from sklearn.preprocessing import LabelEncoder\r\n",
        "le = LabelEncoder()\r\n",
        "X[:, 2] = le.fit_transform(X[:, 2]) #Label Encoding the \"Gender\" column"
      ],
      "execution_count": 91,
      "outputs": []
    },
    {
      "cell_type": "code",
      "metadata": {
        "colab": {
          "base_uri": "https://localhost:8080/"
        },
        "id": "0Mn_-UnpRSxE",
        "outputId": "37b0a7eb-2bde-45dc-b31f-a30be3553599"
      },
      "source": [
        "X"
      ],
      "execution_count": 92,
      "outputs": [
        {
          "output_type": "execute_result",
          "data": {
            "text/plain": [
              "array([[619, 'France', 0, ..., 1, 1, 101348.88],\n",
              "       [608, 'Spain', 0, ..., 0, 1, 112542.58],\n",
              "       [502, 'France', 0, ..., 1, 0, 113931.57],\n",
              "       ...,\n",
              "       [709, 'France', 0, ..., 0, 1, 42085.58],\n",
              "       [772, 'Germany', 1, ..., 1, 0, 92888.52],\n",
              "       [792, 'France', 0, ..., 1, 0, 38190.78]], dtype=object)"
            ]
          },
          "metadata": {
            "tags": []
          },
          "execution_count": 92
        }
      ]
    },
    {
      "cell_type": "code",
      "metadata": {
        "id": "SsiVoaHpVTa3"
      },
      "source": [
        "from sklearn.compose import ColumnTransformer  #One Hot Encoding the \"Geography\" column\r\n",
        "from sklearn.preprocessing import OneHotEncoder\r\n",
        "ct = ColumnTransformer(transformers=[('encoder', OneHotEncoder(), [1])], remainder='passthrough')\r\n",
        "X = np.array(ct.fit_transform(X))"
      ],
      "execution_count": 93,
      "outputs": []
    },
    {
      "cell_type": "code",
      "metadata": {
        "id": "UzowDBtiVC1n",
        "colab": {
          "base_uri": "https://localhost:8080/"
        },
        "outputId": "b4c2418c-d0c7-4c1f-f575-5b06c7275ec8"
      },
      "source": [
        "X"
      ],
      "execution_count": 94,
      "outputs": [
        {
          "output_type": "execute_result",
          "data": {
            "text/plain": [
              "array([[1.0, 0.0, 0.0, ..., 1, 1, 101348.88],\n",
              "       [0.0, 0.0, 1.0, ..., 0, 1, 112542.58],\n",
              "       [1.0, 0.0, 0.0, ..., 1, 0, 113931.57],\n",
              "       ...,\n",
              "       [1.0, 0.0, 0.0, ..., 0, 1, 42085.58],\n",
              "       [0.0, 1.0, 0.0, ..., 1, 0, 92888.52],\n",
              "       [1.0, 0.0, 0.0, ..., 1, 0, 38190.78]], dtype=object)"
            ]
          },
          "metadata": {
            "tags": []
          },
          "execution_count": 94
        }
      ]
    },
    {
      "cell_type": "code",
      "metadata": {
        "id": "XxJaZsI54T35"
      },
      "source": [
        "from sklearn.model_selection import train_test_split\r\n",
        "X_train, X_test, y_train, y_test = train_test_split(X, y, test_size = 0.2, random_state = 0)"
      ],
      "execution_count": 95,
      "outputs": []
    },
    {
      "cell_type": "code",
      "metadata": {
        "id": "WvGC3Txh4WMz"
      },
      "source": [
        "#Feature Scaling\r\n",
        "from sklearn.preprocessing import StandardScaler\r\n",
        "sc = StandardScaler()\r\n",
        "X_train = sc.fit_transform(X_train)\r\n",
        "X_test = sc.transform(X_test)"
      ],
      "execution_count": 96,
      "outputs": []
    },
    {
      "cell_type": "markdown",
      "metadata": {
        "id": "Gk4ODoRDyFuF"
      },
      "source": [
        "**Initializing the ANN**"
      ]
    },
    {
      "cell_type": "code",
      "metadata": {
        "id": "yzVzHgfMyCr7"
      },
      "source": [
        "ann = tf.keras.models.Sequential()"
      ],
      "execution_count": 68,
      "outputs": []
    },
    {
      "cell_type": "markdown",
      "metadata": {
        "id": "x253aDixya-2"
      },
      "source": [
        "Adding the input layer and the first hidden layer"
      ]
    },
    {
      "cell_type": "code",
      "metadata": {
        "id": "5AvPKu6tyWDn"
      },
      "source": [
        "ann.add(tf.keras.layers.Dense(units=6, activation='relu'))"
      ],
      "execution_count": 69,
      "outputs": []
    },
    {
      "cell_type": "markdown",
      "metadata": {
        "id": "bNJnonffyljk"
      },
      "source": [
        "Adding the second hidden layer"
      ]
    },
    {
      "cell_type": "code",
      "metadata": {
        "id": "rBIAIDKRykDq"
      },
      "source": [
        "ann.add(tf.keras.layers.Dense(units=6, activation='relu'))"
      ],
      "execution_count": 70,
      "outputs": []
    },
    {
      "cell_type": "markdown",
      "metadata": {
        "id": "bc-qs5u6yqSt"
      },
      "source": [
        "Adding the output layer"
      ]
    },
    {
      "cell_type": "code",
      "metadata": {
        "id": "Lxt5Qn9ayo76"
      },
      "source": [
        "ann.add(tf.keras.layers.Dense(units=1, activation='sigmoid'))"
      ],
      "execution_count": 71,
      "outputs": []
    },
    {
      "cell_type": "markdown",
      "metadata": {
        "id": "5bIYev61y0tO"
      },
      "source": [
        "Part 3 - Training the ANN"
      ]
    },
    {
      "cell_type": "code",
      "metadata": {
        "id": "2uzSDpPbyvTX"
      },
      "source": [
        "ann.compile(optimizer = 'adam', loss = 'binary_crossentropy', metrics = ['accuracy'])"
      ],
      "execution_count": 72,
      "outputs": []
    },
    {
      "cell_type": "code",
      "metadata": {
        "colab": {
          "base_uri": "https://localhost:8080/"
        },
        "id": "hYvk0Yggy8Cd",
        "outputId": "8caa2d02-9233-4410-c303-fbd76600a879"
      },
      "source": [
        "ann.fit(X_train, y_train, batch_size = 10, epochs = 100)"
      ],
      "execution_count": 73,
      "outputs": [
        {
          "output_type": "stream",
          "text": [
            "Epoch 1/100\n",
            "800/800 [==============================] - 1s 941us/step - loss: 0.5430 - accuracy: 0.7870\n",
            "Epoch 2/100\n",
            "800/800 [==============================] - 1s 920us/step - loss: 0.4478 - accuracy: 0.7996\n",
            "Epoch 3/100\n",
            "800/800 [==============================] - 1s 913us/step - loss: 0.4174 - accuracy: 0.8228\n",
            "Epoch 4/100\n",
            "800/800 [==============================] - 1s 908us/step - loss: 0.4036 - accuracy: 0.8281\n",
            "Epoch 5/100\n",
            "800/800 [==============================] - 1s 924us/step - loss: 0.4062 - accuracy: 0.8171\n",
            "Epoch 6/100\n",
            "800/800 [==============================] - 1s 909us/step - loss: 0.3826 - accuracy: 0.8355\n",
            "Epoch 7/100\n",
            "800/800 [==============================] - 1s 922us/step - loss: 0.3640 - accuracy: 0.8483\n",
            "Epoch 8/100\n",
            "800/800 [==============================] - 1s 916us/step - loss: 0.3646 - accuracy: 0.8497\n",
            "Epoch 9/100\n",
            "800/800 [==============================] - 1s 916us/step - loss: 0.3667 - accuracy: 0.8462\n",
            "Epoch 10/100\n",
            "800/800 [==============================] - 1s 918us/step - loss: 0.3586 - accuracy: 0.8505\n",
            "Epoch 11/100\n",
            "800/800 [==============================] - 1s 894us/step - loss: 0.3466 - accuracy: 0.8560\n",
            "Epoch 12/100\n",
            "800/800 [==============================] - 1s 933us/step - loss: 0.3408 - accuracy: 0.8614\n",
            "Epoch 13/100\n",
            "800/800 [==============================] - 1s 910us/step - loss: 0.3449 - accuracy: 0.8599\n",
            "Epoch 14/100\n",
            "800/800 [==============================] - 1s 893us/step - loss: 0.3443 - accuracy: 0.8561\n",
            "Epoch 15/100\n",
            "800/800 [==============================] - 1s 910us/step - loss: 0.3415 - accuracy: 0.8599\n",
            "Epoch 16/100\n",
            "800/800 [==============================] - 1s 968us/step - loss: 0.3460 - accuracy: 0.8558\n",
            "Epoch 17/100\n",
            "800/800 [==============================] - 1s 909us/step - loss: 0.3391 - accuracy: 0.8574\n",
            "Epoch 18/100\n",
            "800/800 [==============================] - 1s 909us/step - loss: 0.3432 - accuracy: 0.8592\n",
            "Epoch 19/100\n",
            "800/800 [==============================] - 1s 897us/step - loss: 0.3373 - accuracy: 0.8622\n",
            "Epoch 20/100\n",
            "800/800 [==============================] - 1s 919us/step - loss: 0.3581 - accuracy: 0.8476\n",
            "Epoch 21/100\n",
            "800/800 [==============================] - 1s 927us/step - loss: 0.3415 - accuracy: 0.8590\n",
            "Epoch 22/100\n",
            "800/800 [==============================] - 1s 899us/step - loss: 0.3522 - accuracy: 0.8538\n",
            "Epoch 23/100\n",
            "800/800 [==============================] - 1s 909us/step - loss: 0.3367 - accuracy: 0.8646\n",
            "Epoch 24/100\n",
            "800/800 [==============================] - 1s 909us/step - loss: 0.3467 - accuracy: 0.8556\n",
            "Epoch 25/100\n",
            "800/800 [==============================] - 1s 937us/step - loss: 0.3192 - accuracy: 0.8718\n",
            "Epoch 26/100\n",
            "800/800 [==============================] - 1s 904us/step - loss: 0.3338 - accuracy: 0.8625\n",
            "Epoch 27/100\n",
            "800/800 [==============================] - 1s 910us/step - loss: 0.3423 - accuracy: 0.8574\n",
            "Epoch 28/100\n",
            "800/800 [==============================] - 1s 895us/step - loss: 0.3365 - accuracy: 0.8623\n",
            "Epoch 29/100\n",
            "800/800 [==============================] - 1s 936us/step - loss: 0.3301 - accuracy: 0.8672\n",
            "Epoch 30/100\n",
            "800/800 [==============================] - 1s 921us/step - loss: 0.3477 - accuracy: 0.8596\n",
            "Epoch 31/100\n",
            "800/800 [==============================] - 1s 915us/step - loss: 0.3465 - accuracy: 0.8605\n",
            "Epoch 32/100\n",
            "800/800 [==============================] - 1s 936us/step - loss: 0.3522 - accuracy: 0.8555\n",
            "Epoch 33/100\n",
            "800/800 [==============================] - 1s 904us/step - loss: 0.3396 - accuracy: 0.8575\n",
            "Epoch 34/100\n",
            "800/800 [==============================] - 1s 923us/step - loss: 0.3418 - accuracy: 0.8617\n",
            "Epoch 35/100\n",
            "800/800 [==============================] - 1s 928us/step - loss: 0.3377 - accuracy: 0.8616\n",
            "Epoch 36/100\n",
            "800/800 [==============================] - 1s 904us/step - loss: 0.3339 - accuracy: 0.8654\n",
            "Epoch 37/100\n",
            "800/800 [==============================] - 1s 898us/step - loss: 0.3323 - accuracy: 0.8665\n",
            "Epoch 38/100\n",
            "800/800 [==============================] - 1s 940us/step - loss: 0.3438 - accuracy: 0.8597\n",
            "Epoch 39/100\n",
            "800/800 [==============================] - 1s 947us/step - loss: 0.3471 - accuracy: 0.8575\n",
            "Epoch 40/100\n",
            "800/800 [==============================] - 1s 1ms/step - loss: 0.3342 - accuracy: 0.8623\n",
            "Epoch 41/100\n",
            "800/800 [==============================] - 1s 1ms/step - loss: 0.3403 - accuracy: 0.8622\n",
            "Epoch 42/100\n",
            "800/800 [==============================] - 1s 1ms/step - loss: 0.3384 - accuracy: 0.8566\n",
            "Epoch 43/100\n",
            "800/800 [==============================] - 1s 1ms/step - loss: 0.3449 - accuracy: 0.8568\n",
            "Epoch 44/100\n",
            "800/800 [==============================] - 1s 1ms/step - loss: 0.3365 - accuracy: 0.8644\n",
            "Epoch 45/100\n",
            "800/800 [==============================] - 1s 1ms/step - loss: 0.3391 - accuracy: 0.8615\n",
            "Epoch 46/100\n",
            "800/800 [==============================] - 1s 1ms/step - loss: 0.3330 - accuracy: 0.8674\n",
            "Epoch 47/100\n",
            "800/800 [==============================] - 1s 918us/step - loss: 0.3374 - accuracy: 0.8602\n",
            "Epoch 48/100\n",
            "800/800 [==============================] - 1s 943us/step - loss: 0.3405 - accuracy: 0.8639\n",
            "Epoch 49/100\n",
            "800/800 [==============================] - 1s 921us/step - loss: 0.3369 - accuracy: 0.8649\n",
            "Epoch 50/100\n",
            "800/800 [==============================] - 1s 932us/step - loss: 0.3417 - accuracy: 0.8634\n",
            "Epoch 51/100\n",
            "800/800 [==============================] - 1s 909us/step - loss: 0.3368 - accuracy: 0.8650\n",
            "Epoch 52/100\n",
            "800/800 [==============================] - 1s 924us/step - loss: 0.3424 - accuracy: 0.8595\n",
            "Epoch 53/100\n",
            "800/800 [==============================] - 1s 934us/step - loss: 0.3372 - accuracy: 0.8645\n",
            "Epoch 54/100\n",
            "800/800 [==============================] - 1s 926us/step - loss: 0.3342 - accuracy: 0.8635\n",
            "Epoch 55/100\n",
            "800/800 [==============================] - 1s 927us/step - loss: 0.3333 - accuracy: 0.8637\n",
            "Epoch 56/100\n",
            "800/800 [==============================] - 1s 919us/step - loss: 0.3431 - accuracy: 0.8570\n",
            "Epoch 57/100\n",
            "800/800 [==============================] - 1s 928us/step - loss: 0.3240 - accuracy: 0.8676\n",
            "Epoch 58/100\n",
            "800/800 [==============================] - 1s 963us/step - loss: 0.3402 - accuracy: 0.8588\n",
            "Epoch 59/100\n",
            "800/800 [==============================] - 1s 904us/step - loss: 0.3392 - accuracy: 0.8601\n",
            "Epoch 60/100\n",
            "800/800 [==============================] - 1s 916us/step - loss: 0.3263 - accuracy: 0.8698\n",
            "Epoch 61/100\n",
            "800/800 [==============================] - 1s 928us/step - loss: 0.3322 - accuracy: 0.8631\n",
            "Epoch 62/100\n",
            "800/800 [==============================] - 1s 924us/step - loss: 0.3366 - accuracy: 0.8649\n",
            "Epoch 63/100\n",
            "800/800 [==============================] - 1s 917us/step - loss: 0.3295 - accuracy: 0.8682\n",
            "Epoch 64/100\n",
            "800/800 [==============================] - 1s 922us/step - loss: 0.3356 - accuracy: 0.8614\n",
            "Epoch 65/100\n",
            "800/800 [==============================] - 1s 932us/step - loss: 0.3435 - accuracy: 0.8611\n",
            "Epoch 66/100\n",
            "800/800 [==============================] - 1s 933us/step - loss: 0.3427 - accuracy: 0.8631\n",
            "Epoch 67/100\n",
            "800/800 [==============================] - 1s 948us/step - loss: 0.3259 - accuracy: 0.8680\n",
            "Epoch 68/100\n",
            "800/800 [==============================] - 1s 935us/step - loss: 0.3385 - accuracy: 0.8631\n",
            "Epoch 69/100\n",
            "800/800 [==============================] - 1s 936us/step - loss: 0.3267 - accuracy: 0.8638\n",
            "Epoch 70/100\n",
            "800/800 [==============================] - 1s 902us/step - loss: 0.3251 - accuracy: 0.8665\n",
            "Epoch 71/100\n",
            "800/800 [==============================] - 1s 925us/step - loss: 0.3284 - accuracy: 0.8692\n",
            "Epoch 72/100\n",
            "800/800 [==============================] - 1s 962us/step - loss: 0.3294 - accuracy: 0.8687\n",
            "Epoch 73/100\n",
            "800/800 [==============================] - 1s 943us/step - loss: 0.3313 - accuracy: 0.8672\n",
            "Epoch 74/100\n",
            "800/800 [==============================] - 1s 914us/step - loss: 0.3283 - accuracy: 0.8692\n",
            "Epoch 75/100\n",
            "800/800 [==============================] - 1s 951us/step - loss: 0.3328 - accuracy: 0.8620\n",
            "Epoch 76/100\n",
            "800/800 [==============================] - 1s 922us/step - loss: 0.3276 - accuracy: 0.8645\n",
            "Epoch 77/100\n",
            "800/800 [==============================] - 1s 917us/step - loss: 0.3335 - accuracy: 0.8638\n",
            "Epoch 78/100\n",
            "800/800 [==============================] - 1s 922us/step - loss: 0.3236 - accuracy: 0.8682\n",
            "Epoch 79/100\n",
            "800/800 [==============================] - 1s 937us/step - loss: 0.3345 - accuracy: 0.8691\n",
            "Epoch 80/100\n",
            "800/800 [==============================] - 1s 924us/step - loss: 0.3273 - accuracy: 0.8684\n",
            "Epoch 81/100\n",
            "800/800 [==============================] - 1s 946us/step - loss: 0.3317 - accuracy: 0.8681\n",
            "Epoch 82/100\n",
            "800/800 [==============================] - 1s 931us/step - loss: 0.3342 - accuracy: 0.8635\n",
            "Epoch 83/100\n",
            "800/800 [==============================] - 1s 924us/step - loss: 0.3299 - accuracy: 0.8687\n",
            "Epoch 84/100\n",
            "800/800 [==============================] - 1s 958us/step - loss: 0.3283 - accuracy: 0.8687\n",
            "Epoch 85/100\n",
            "800/800 [==============================] - 1s 929us/step - loss: 0.3178 - accuracy: 0.8672\n",
            "Epoch 86/100\n",
            "800/800 [==============================] - 1s 943us/step - loss: 0.3243 - accuracy: 0.8704\n",
            "Epoch 87/100\n",
            "800/800 [==============================] - 1s 974us/step - loss: 0.3347 - accuracy: 0.8694\n",
            "Epoch 88/100\n",
            "800/800 [==============================] - 1s 918us/step - loss: 0.3322 - accuracy: 0.8679\n",
            "Epoch 89/100\n",
            "800/800 [==============================] - 1s 941us/step - loss: 0.3270 - accuracy: 0.8667\n",
            "Epoch 90/100\n",
            "800/800 [==============================] - 1s 931us/step - loss: 0.3340 - accuracy: 0.8628\n",
            "Epoch 91/100\n",
            "800/800 [==============================] - 1s 966us/step - loss: 0.3388 - accuracy: 0.8629\n",
            "Epoch 92/100\n",
            "800/800 [==============================] - 1s 925us/step - loss: 0.3246 - accuracy: 0.8699\n",
            "Epoch 93/100\n",
            "800/800 [==============================] - 1s 934us/step - loss: 0.3252 - accuracy: 0.8677\n",
            "Epoch 94/100\n",
            "800/800 [==============================] - 1s 919us/step - loss: 0.3272 - accuracy: 0.8672\n",
            "Epoch 95/100\n",
            "800/800 [==============================] - 1s 936us/step - loss: 0.3395 - accuracy: 0.8602\n",
            "Epoch 96/100\n",
            "800/800 [==============================] - 1s 935us/step - loss: 0.3332 - accuracy: 0.8684\n",
            "Epoch 97/100\n",
            "800/800 [==============================] - 1s 941us/step - loss: 0.3318 - accuracy: 0.8603\n",
            "Epoch 98/100\n",
            "800/800 [==============================] - 1s 923us/step - loss: 0.3406 - accuracy: 0.8636\n",
            "Epoch 99/100\n",
            "800/800 [==============================] - 1s 946us/step - loss: 0.3274 - accuracy: 0.8638\n",
            "Epoch 100/100\n",
            "800/800 [==============================] - 1s 964us/step - loss: 0.3260 - accuracy: 0.8684\n"
          ],
          "name": "stdout"
        },
        {
          "output_type": "execute_result",
          "data": {
            "text/plain": [
              "<tensorflow.python.keras.callbacks.History at 0x7fcc70e6c278>"
            ]
          },
          "metadata": {
            "tags": []
          },
          "execution_count": 73
        }
      ]
    },
    {
      "cell_type": "markdown",
      "metadata": {
        "id": "rTbodbmR0eZh"
      },
      "source": [
        "Use our ANN model to predict if the customer with the following informations will leave the bank:\r\n",
        "\r\n",
        "Geography: France\r\n",
        "\r\n",
        "Credit Score: 600\r\n",
        "\r\n",
        "Gender: Male\r\n",
        "\r\n",
        "Age: 40 years old\r\n",
        "\r\n",
        "Tenure: 3 years\r\n",
        "\r\n",
        "Balance: \\$ 60000\r\n",
        "\r\n",
        "Number of Products: 2\r\n",
        "\r\n",
        "Does this customer have a credit card ? Yes\r\n",
        "\r\n",
        "Is this customer an Active Member: Yes\r\n",
        "\r\n",
        "Estimated Salary: \\$ 50000\r\n",
        "\r\n",
        "So, should we say goodbye to that customer ?"
      ]
    },
    {
      "cell_type": "code",
      "metadata": {
        "colab": {
          "base_uri": "https://localhost:8080/"
        },
        "id": "7epNcEWxzWRo",
        "outputId": "b6800a7f-1b15-480f-afd1-22190da7b2d4"
      },
      "source": [
        "print(ann.predict(sc.transform([[1, 0, 0, 600, 1, 40, 3, 60000, 2, 1, 1, 50000]])) > 0.5)"
      ],
      "execution_count": 74,
      "outputs": [
        {
          "output_type": "stream",
          "text": [
            "[[False]]\n"
          ],
          "name": "stdout"
        }
      ]
    },
    {
      "cell_type": "markdown",
      "metadata": {
        "id": "yoVj3fQo0jhf"
      },
      "source": [
        "Important note 1: Notice that the values of the features were all input in a double pair of square brackets. That's because the \"predict\" method always expects a 2D array as the format of its inputs. And putting our values into a double pair of square brackets makes the input exactly a 2D array.\r\n",
        "\r\n",
        "Important note 2: Notice also that the \"France\" country was not input as a string in the last column but as \"1, 0, 0\" in the first three columns. That's because of course the predict method expects the one-hot-encoded values of the state, and as we see in the first row of the matrix of features X, \"France\" was encoded as \"1, 0, 0\". And be careful to include these values in the first three columns, because the dummy variables are always created in the first columns."
      ]
    },
    {
      "cell_type": "code",
      "metadata": {
        "colab": {
          "base_uri": "https://localhost:8080/"
        },
        "id": "EmBBfbWTzZhp",
        "outputId": "9c38de97-904b-4687-dec9-3a728eb93d14"
      },
      "source": [
        "y_pred = ann.predict(X_test)\r\n",
        "print(y_pred)\r\n",
        "y_pred = (y_pred > 0.5)\r\n",
        "print(y_pred)"
      ],
      "execution_count": 75,
      "outputs": [
        {
          "output_type": "stream",
          "text": [
            "[[0.18575874]\n",
            " [0.2957816 ]\n",
            " [0.09037185]\n",
            " ...\n",
            " [0.1931333 ]\n",
            " [0.14230233]\n",
            " [0.16374251]]\n",
            "[[False]\n",
            " [False]\n",
            " [False]\n",
            " ...\n",
            " [False]\n",
            " [False]\n",
            " [False]]\n"
          ],
          "name": "stdout"
        }
      ]
    },
    {
      "cell_type": "code",
      "metadata": {
        "colab": {
          "base_uri": "https://localhost:8080/"
        },
        "id": "YM7Q4nayzg29",
        "outputId": "9e4d5b9d-73c6-458d-88d6-c402131cbb4c"
      },
      "source": [
        "from sklearn.metrics import confusion_matrix, accuracy_score\r\n",
        "cm = confusion_matrix(y_test, y_pred)\r\n",
        "print(cm)\r\n",
        "accuracy_score(y_test, y_pred)"
      ],
      "execution_count": 76,
      "outputs": [
        {
          "output_type": "stream",
          "text": [
            "[[1529   66]\n",
            " [ 208  197]]\n"
          ],
          "name": "stdout"
        },
        {
          "output_type": "execute_result",
          "data": {
            "text/plain": [
              "0.863"
            ]
          },
          "metadata": {
            "tags": []
          },
          "execution_count": 76
        }
      ]
    },
    {
      "cell_type": "markdown",
      "metadata": {
        "id": "w7ZGAXZW0Fce"
      },
      "source": [
        "K Fold Cross Validation\r\n"
      ]
    },
    {
      "cell_type": "code",
      "metadata": {
        "id": "bVhlXXuJ1ff4",
        "colab": {
          "base_uri": "https://localhost:8080/"
        },
        "outputId": "e77562b6-01bf-415f-9ab8-9282a9c10d41"
      },
      "source": [
        "from keras.wrappers.scikit_learn import KerasClassifier\r\n",
        "from sklearn.model_selection import cross_val_score\r\n",
        "def build_classifier():\r\n",
        "    ann = tf.keras.models.Sequential()\r\n",
        "    ann.add(tf.keras.layers.Dense(units=6, activation='relu'))\r\n",
        "    ann.add(tf.keras.layers.Dense(units=6, activation='relu'))\r\n",
        "    ann.add(tf.keras.layers.Dense(units=1, activation='sigmoid'))\r\n",
        "    ann.compile(optimizer = 'adam', loss = 'binary_crossentropy', metrics = ['accuracy'])    \r\n",
        "    return ann\r\n",
        "ann = KerasClassifier(build_fn= build_classifier, batch_size = 10, nb_epoch = 100)\r\n",
        "accuracies = cross_val_score(estimator= ann, X=X_train, y=y_train, cv= 10,n_jobs= -1)\r\n",
        "accuracies"
      ],
      "execution_count": 82,
      "outputs": [
        {
          "output_type": "execute_result",
          "data": {
            "text/plain": [
              "array([0.78625   , 0.78375   , 0.79750001, 0.78250003, 0.8125    ,\n",
              "       0.81      , 0.78750002, 0.79374999, 0.80374998, 0.8075    ])"
            ]
          },
          "metadata": {
            "tags": []
          },
          "execution_count": 82
        }
      ]
    },
    {
      "cell_type": "code",
      "metadata": {
        "colab": {
          "base_uri": "https://localhost:8080/"
        },
        "id": "N-Emlh9fy7yM",
        "outputId": "6f740c64-46b3-4bf9-ce77-0382a9d287c0"
      },
      "source": [
        "mean = accuracies.mean()\r\n",
        "mean"
      ],
      "execution_count": 83,
      "outputs": [
        {
          "output_type": "execute_result",
          "data": {
            "text/plain": [
              "0.7965000033378601"
            ]
          },
          "metadata": {
            "tags": []
          },
          "execution_count": 83
        }
      ]
    },
    {
      "cell_type": "code",
      "metadata": {
        "colab": {
          "base_uri": "https://localhost:8080/"
        },
        "id": "sh2gn-fJy__Q",
        "outputId": "4f6d7978-9069-4edd-9260-ad7c52d5847c"
      },
      "source": [
        "std  =  accuracies.std()\r\n",
        "std"
      ],
      "execution_count": 84,
      "outputs": [
        {
          "output_type": "execute_result",
          "data": {
            "text/plain": [
              "0.010793511387064502"
            ]
          },
          "metadata": {
            "tags": []
          },
          "execution_count": 84
        }
      ]
    },
    {
      "cell_type": "markdown",
      "metadata": {
        "id": "sNzkJtWT2kLw"
      },
      "source": [
        "Parameter Tuning"
      ]
    },
    {
      "cell_type": "code",
      "metadata": {
        "colab": {
          "base_uri": "https://localhost:8080/"
        },
        "id": "4QsSB0AHzEnE",
        "outputId": "36ca59b6-852b-4b9a-d170-7518365e0375"
      },
      "source": [
        "from sklearn.model_selection import GridSearchCV\r\n",
        "from keras.wrappers.scikit_learn import KerasClassifier\r\n",
        "def build_classifier(optimizer):\r\n",
        "    ann = tf.keras.models.Sequential()\r\n",
        "    ann.add(tf.keras.layers.Dense(units=6, activation='relu'))\r\n",
        "    ann.add(tf.keras.layers.Dense(units=6, activation='relu'))\r\n",
        "    ann.add(tf.keras.layers.Dense(units=1, activation='sigmoid'))\r\n",
        "    ann.compile(optimizer = optimizer, loss = 'binary_crossentropy', metrics = ['accuracy'])    \r\n",
        "    return ann\r\n",
        "ann = KerasClassifier(build_fn= build_classifier)\r\n",
        "parameters = {'batch_size': [25,32],\r\n",
        "              'nb_epoch':[100,500],\r\n",
        "              'optimizer': ['adam','rmsprop']}\r\n",
        "grid_search = GridSearchCV(estimator = ann,\r\n",
        "                           param_grid = parameters,\r\n",
        "                           scoring = 'accuracy', cv = 10)\r\n",
        "grid_search = grid_search.fit(X_train, y_train) \r\n",
        "best_parameters = grid_search.best_params_\r\n",
        "best_accuracy = grid_search.best_score_"
      ],
      "execution_count": 105,
      "outputs": [
        {
          "output_type": "stream",
          "text": [
            "288/288 [==============================] - 1s 970us/step - loss: 0.5928 - accuracy: 0.7119\n"
          ],
          "name": "stdout"
        },
        {
          "output_type": "stream",
          "text": [
            "/usr/local/lib/python3.6/dist-packages/tensorflow/python/keras/engine/sequential.py:450: UserWarning: `model.predict_classes()` is deprecated and will be removed after 2021-01-01. Please use instead:* `np.argmax(model.predict(x), axis=-1)`,   if your model does multi-class classification   (e.g. if it uses a `softmax` last-layer activation).* `(model.predict(x) > 0.5).astype(\"int32\")`,   if your model does binary classification   (e.g. if it uses a `sigmoid` last-layer activation).\n",
            "  warnings.warn('`model.predict_classes()` is deprecated and '\n"
          ],
          "name": "stderr"
        },
        {
          "output_type": "stream",
          "text": [
            "288/288 [==============================] - 1s 970us/step - loss: 0.8035 - accuracy: 0.4153\n",
            "288/288 [==============================] - 1s 971us/step - loss: 0.6602 - accuracy: 0.6087\n",
            "288/288 [==============================] - 1s 954us/step - loss: 0.6428 - accuracy: 0.6486\n",
            "288/288 [==============================] - 1s 1ms/step - loss: 0.5684 - accuracy: 0.7464\n",
            "288/288 [==============================] - 1s 941us/step - loss: 0.5590 - accuracy: 0.7646\n",
            "288/288 [==============================] - 1s 924us/step - loss: 0.5487 - accuracy: 0.7946\n",
            "288/288 [==============================] - 1s 1ms/step - loss: 0.6958 - accuracy: 0.5447\n",
            "288/288 [==============================] - 1s 957us/step - loss: 0.6156 - accuracy: 0.6471\n",
            "288/288 [==============================] - 1s 1ms/step - loss: 0.7272 - accuracy: 0.5425\n",
            "288/288 [==============================] - 1s 1ms/step - loss: 0.5882 - accuracy: 0.7777\n",
            "288/288 [==============================] - 1s 1ms/step - loss: 0.5651 - accuracy: 0.7932\n",
            "288/288 [==============================] - 1s 971us/step - loss: 0.7138 - accuracy: 0.5432\n",
            "288/288 [==============================] - 1s 987us/step - loss: 0.6917 - accuracy: 0.5538\n",
            "288/288 [==============================] - 1s 975us/step - loss: 0.5210 - accuracy: 0.7995\n",
            "288/288 [==============================] - 1s 982us/step - loss: 0.9460 - accuracy: 0.3517\n",
            "288/288 [==============================] - 1s 978us/step - loss: 0.5527 - accuracy: 0.7940\n",
            "288/288 [==============================] - 1s 965us/step - loss: 0.6135 - accuracy: 0.7408\n",
            "288/288 [==============================] - 1s 985us/step - loss: 0.5977 - accuracy: 0.7338\n",
            "288/288 [==============================] - 1s 1ms/step - loss: 0.5496 - accuracy: 0.7872\n",
            "288/288 [==============================] - 1s 955us/step - loss: 0.5904 - accuracy: 0.7162\n",
            "288/288 [==============================] - 1s 963us/step - loss: 0.6247 - accuracy: 0.7070\n",
            "288/288 [==============================] - 1s 985us/step - loss: 0.5872 - accuracy: 0.7710\n",
            "288/288 [==============================] - 1s 988us/step - loss: 0.6386 - accuracy: 0.6730\n",
            "288/288 [==============================] - 1s 970us/step - loss: 0.5826 - accuracy: 0.7246\n",
            "288/288 [==============================] - 1s 942us/step - loss: 0.5881 - accuracy: 0.7542\n",
            "288/288 [==============================] - 1s 961us/step - loss: 0.7006 - accuracy: 0.5497\n",
            "288/288 [==============================] - 1s 962us/step - loss: 0.5224 - accuracy: 0.7938\n",
            "288/288 [==============================] - 1s 979us/step - loss: 0.6155 - accuracy: 0.6747\n",
            "288/288 [==============================] - 1s 975us/step - loss: 0.6913 - accuracy: 0.5940\n",
            "288/288 [==============================] - 1s 970us/step - loss: 0.7316 - accuracy: 0.5143\n",
            "288/288 [==============================] - 1s 981us/step - loss: 0.4994 - accuracy: 0.7929\n",
            "288/288 [==============================] - 1s 1ms/step - loss: 0.6039 - accuracy: 0.7267\n",
            "288/288 [==============================] - 1s 1ms/step - loss: 0.6843 - accuracy: 0.5981\n",
            "288/288 [==============================] - 1s 973us/step - loss: 0.6215 - accuracy: 0.6576\n",
            "288/288 [==============================] - 1s 1ms/step - loss: 0.6361 - accuracy: 0.7061\n",
            "288/288 [==============================] - 1s 1ms/step - loss: 0.7117 - accuracy: 0.5328\n",
            "288/288 [==============================] - 1s 1ms/step - loss: 0.7014 - accuracy: 0.5482\n",
            "288/288 [==============================] - 1s 1ms/step - loss: 0.6110 - accuracy: 0.6824\n",
            "288/288 [==============================] - 1s 996us/step - loss: 0.6762 - accuracy: 0.6172\n",
            "225/225 [==============================] - 1s 978us/step - loss: 0.5577 - accuracy: 0.7661\n",
            "225/225 [==============================] - 1s 979us/step - loss: 0.6784 - accuracy: 0.5548\n",
            "225/225 [==============================] - 1s 1ms/step - loss: 0.6323 - accuracy: 0.6654\n",
            "225/225 [==============================] - 1s 953us/step - loss: 0.5611 - accuracy: 0.7208\n",
            "225/225 [==============================] - 1s 956us/step - loss: 0.8825 - accuracy: 0.4128\n",
            "225/225 [==============================] - 1s 1ms/step - loss: 0.6263 - accuracy: 0.6921\n",
            "225/225 [==============================] - 1s 978us/step - loss: 1.0068 - accuracy: 0.2976\n",
            "225/225 [==============================] - 1s 929us/step - loss: 0.5273 - accuracy: 0.8047\n",
            "225/225 [==============================] - 1s 1ms/step - loss: 0.8038 - accuracy: 0.4099\n",
            "225/225 [==============================] - 1s 994us/step - loss: 0.7798 - accuracy: 0.4774\n",
            "225/225 [==============================] - 1s 1ms/step - loss: 0.5285 - accuracy: 0.8015\n",
            "225/225 [==============================] - 1s 981us/step - loss: 0.5519 - accuracy: 0.7547\n",
            "225/225 [==============================] - 1s 986us/step - loss: 0.7276 - accuracy: 0.4986\n",
            "225/225 [==============================] - 1s 991us/step - loss: 0.6072 - accuracy: 0.7099\n",
            "225/225 [==============================] - 1s 997us/step - loss: 0.5609 - accuracy: 0.7523\n",
            "225/225 [==============================] - 1s 1ms/step - loss: 0.6504 - accuracy: 0.6109\n",
            "225/225 [==============================] - 1s 993us/step - loss: 0.6561 - accuracy: 0.6379\n",
            "225/225 [==============================] - 1s 1ms/step - loss: 0.6730 - accuracy: 0.6080\n",
            "225/225 [==============================] - 1s 1ms/step - loss: 0.7209 - accuracy: 0.5116\n",
            "225/225 [==============================] - 1s 1ms/step - loss: 0.5585 - accuracy: 0.7963\n",
            "225/225 [==============================] - 1s 1ms/step - loss: 0.5812 - accuracy: 0.7816\n",
            "225/225 [==============================] - 1s 995us/step - loss: 0.5301 - accuracy: 0.7895\n",
            "225/225 [==============================] - 1s 983us/step - loss: 0.5818 - accuracy: 0.7156\n",
            "225/225 [==============================] - 1s 985us/step - loss: 0.6540 - accuracy: 0.6225\n",
            "225/225 [==============================] - 1s 1ms/step - loss: 0.7432 - accuracy: 0.4471\n",
            "225/225 [==============================] - 1s 955us/step - loss: 0.6106 - accuracy: 0.7216\n",
            "225/225 [==============================] - 1s 966us/step - loss: 0.6253 - accuracy: 0.7151\n",
            "225/225 [==============================] - 1s 1ms/step - loss: 0.6274 - accuracy: 0.7122\n",
            "225/225 [==============================] - 1s 1ms/step - loss: 0.6526 - accuracy: 0.6874\n",
            "225/225 [==============================] - 1s 963us/step - loss: 0.6152 - accuracy: 0.7485\n",
            "225/225 [==============================] - 1s 969us/step - loss: 0.5273 - accuracy: 0.7894\n",
            "225/225 [==============================] - 1s 982us/step - loss: 0.5482 - accuracy: 0.7963\n",
            "225/225 [==============================] - 1s 973us/step - loss: 0.9549 - accuracy: 0.3235\n",
            "225/225 [==============================] - 1s 1ms/step - loss: 0.6533 - accuracy: 0.6073\n",
            "225/225 [==============================] - 1s 985us/step - loss: 0.9997 - accuracy: 0.3202\n",
            "225/225 [==============================] - 1s 1ms/step - loss: 0.8497 - accuracy: 0.4442\n",
            "225/225 [==============================] - 1s 990us/step - loss: 0.6091 - accuracy: 0.6998\n",
            "225/225 [==============================] - 1s 959us/step - loss: 0.5956 - accuracy: 0.7558\n",
            "225/225 [==============================] - 1s 1ms/step - loss: 0.6152 - accuracy: 0.7373\n",
            "225/225 [==============================] - 1s 1ms/step - loss: 0.7758 - accuracy: 0.4383\n",
            "250/250 [==============================] - 1s 957us/step - loss: 0.5698 - accuracy: 0.7473\n"
          ],
          "name": "stdout"
        }
      ]
    },
    {
      "cell_type": "code",
      "metadata": {
        "colab": {
          "base_uri": "https://localhost:8080/"
        },
        "id": "gdbDLU26F3WP",
        "outputId": "df660cdf-8613-494f-83f3-25d692ad1a96"
      },
      "source": [
        "best_accuracy"
      ],
      "execution_count": 106,
      "outputs": [
        {
          "output_type": "execute_result",
          "data": {
            "text/plain": [
              "0.799"
            ]
          },
          "metadata": {
            "tags": []
          },
          "execution_count": 106
        }
      ]
    },
    {
      "cell_type": "code",
      "metadata": {
        "colab": {
          "base_uri": "https://localhost:8080/"
        },
        "id": "SL11P2jlF5fz",
        "outputId": "c1ac624a-af91-47a9-cebe-a11d5484cbe0"
      },
      "source": [
        "best_parameters"
      ],
      "execution_count": 107,
      "outputs": [
        {
          "output_type": "execute_result",
          "data": {
            "text/plain": [
              "{'batch_size': 32, 'nb_epoch': 500, 'optimizer': 'adam'}"
            ]
          },
          "metadata": {
            "tags": []
          },
          "execution_count": 107
        }
      ]
    },
    {
      "cell_type": "code",
      "metadata": {
        "id": "RCLP9RzzF7tn"
      },
      "source": [
        ""
      ],
      "execution_count": null,
      "outputs": []
    }
  ]
}